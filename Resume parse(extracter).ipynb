{
 "cells": [
  {
   "cell_type": "markdown",
   "metadata": {},
   "source": [
    "##### Reference https://promptapi.com/blog/article/build-your-own-resume-parser-using-python-and-nlp\n",
    "##### API for skills https://api.emsidata.com/"
   ]
  },
  {
   "cell_type": "markdown",
   "metadata": {},
   "source": [
    "## Importing libraries"
   ]
  },
  {
   "cell_type": "code",
   "execution_count": 166,
   "metadata": {
    "tags": []
   },
   "outputs": [],
   "source": [
    "# !pip install pdfminer.six\n",
    "# !pip install docx2txt\n",
    "# !pip install pdf2image"
   ]
  },
  {
   "cell_type": "code",
   "execution_count": 1,
   "metadata": {},
   "outputs": [],
   "source": [
    "import os"
   ]
  },
  {
   "cell_type": "code",
   "execution_count": 2,
   "metadata": {},
   "outputs": [],
   "source": [
    "import docx2txt\n",
    "# import nltk"
   ]
  },
  {
   "cell_type": "code",
   "execution_count": 3,
   "metadata": {},
   "outputs": [],
   "source": [
    "import re"
   ]
  },
  {
   "cell_type": "code",
   "execution_count": 4,
   "metadata": {},
   "outputs": [],
   "source": [
    "import pytesseract\n",
    "pytesseract.pytesseract.tesseract_cmd = \"D:/Program Files/Tesseract-OCR/tesseract\""
   ]
  },
  {
   "cell_type": "code",
   "execution_count": 4,
   "metadata": {},
   "outputs": [],
   "source": [
    "from pdfminer.high_level import extract_text\n",
    "# from pdf2image import convert_from_path"
   ]
  },
  {
   "cell_type": "code",
   "execution_count": 5,
   "metadata": {},
   "outputs": [],
   "source": [
    "import requests\n",
    "import json"
   ]
  },
  {
   "cell_type": "markdown",
   "metadata": {},
   "source": [
    "## downloading required nltk packages"
   ]
  },
  {
   "cell_type": "code",
   "execution_count": 6,
   "metadata": {
    "tags": []
   },
   "outputs": [],
   "source": [
    "# nltk.download('stopwords')\n",
    "# nltk.download('punkt')\n",
    "# nltk.download('averaged_perceptron_tagger')\n",
    "# nltk.download('maxent_ne_cahunker')\n",
    "# nltk.download('words')"
   ]
  },
  {
   "cell_type": "markdown",
   "metadata": {},
   "source": [
    "## Extract text from docx"
   ]
  },
  {
   "cell_type": "code",
   "execution_count": 7,
   "metadata": {},
   "outputs": [],
   "source": [
    "def extract_text_from_docx(docx_path):\n",
    "    txt = docx2txt.process(docx_path)\n",
    "    if txt:\n",
    "        return txt.replace('\\t', ' ')\n",
    "    return None"
   ]
  },
  {
   "cell_type": "markdown",
   "metadata": {},
   "source": [
    "## Extract text from image"
   ]
  },
  {
   "cell_type": "code",
   "execution_count": 8,
   "metadata": {},
   "outputs": [],
   "source": [
    "def extract_text_from_image(img_path):\n",
    "    txt = pytesseract.image_to_string(img_path)\n",
    "    if txt:\n",
    "        return txt.replace('\\t', ' ')\n",
    "    return None"
   ]
  },
  {
   "cell_type": "markdown",
   "metadata": {},
   "source": [
    "## Extract text from pdf"
   ]
  },
  {
   "cell_type": "code",
   "execution_count": 9,
   "metadata": {},
   "outputs": [],
   "source": [
    "def extract_text_from_pdf(pdf_path):\n",
    "    return extract_text(pdf_path)"
   ]
  },
  {
   "cell_type": "code",
   "execution_count": 10,
   "metadata": {
    "jupyter": {
     "source_hidden": true
    },
    "tags": []
   },
   "outputs": [],
   "source": [
    "\n",
    "# def find_gender(name):\n",
    "#     url = \"https://api.genderize.io/?name=\"\n",
    "#     n = name\n",
    "#     r = requests.get(url+n).json()\n",
    "#     gender =  r[\"gender\"]\n",
    "#     if gender:\n",
    "#         return gender\n",
    "#     else:\n",
    "#         return \"Cannot identify gender\"\n",
    "    "
   ]
  },
  {
   "cell_type": "markdown",
   "metadata": {},
   "source": [
    "## Extract phone numbers"
   ]
  },
  {
   "cell_type": "code",
   "execution_count": 11,
   "metadata": {},
   "outputs": [],
   "source": [
    "def extract_phone_number(resume_text):\n",
    "    PHONE_REG = re.compile(r'[\\+\\(]?[1-9][0-9 .\\-\\(\\)]{8,}[0-9]')\n",
    "    phone = re.findall(PHONE_REG, resume_text)\n",
    "    if phone:\n",
    "        number = ''.join(phone[0])\n",
    "\n",
    "        if resume_text.find(number) >= 0 and len(number) < 16:\n",
    "            return number\n",
    "    return None\n"
   ]
  },
  {
   "cell_type": "markdown",
   "metadata": {},
   "source": [
    "## Extract name "
   ]
  },
  {
   "cell_type": "code",
   "execution_count": 12,
   "metadata": {},
   "outputs": [],
   "source": [
    "#extracts file name(without ext) from file path \n",
    "def get_name(path):\n",
    "    name = os.path.basename(path)\n",
    "    new_name = \"\"\n",
    "    for c in name:\n",
    "        if c == '.':\n",
    "            break\n",
    "        else:\n",
    "            new_name = new_name + c\n",
    "    return new_name\n"
   ]
  },
  {
   "cell_type": "markdown",
   "metadata": {},
   "source": [
    "## get extension name"
   ]
  },
  {
   "cell_type": "code",
   "execution_count": 13,
   "metadata": {},
   "outputs": [],
   "source": [
    "def get_ext(path):\n",
    "    name = os.path.basename(path)\n",
    "    ext = os.path.splitext(name)[1]\n",
    "    return ext"
   ]
  },
  {
   "cell_type": "markdown",
   "metadata": {},
   "source": [
    "## Extract emails"
   ]
  },
  {
   "cell_type": "code",
   "execution_count": 14,
   "metadata": {},
   "outputs": [],
   "source": [
    "def extract_emails(resume_text):\n",
    "    EMAIL_REG = re.compile(r'[a-z0-9\\.\\-+_]+@[a-z0-9\\.\\-+_]+\\.[a-z]+')\n",
    "    return re.findall(EMAIL_REG, resume_text)"
   ]
  },
  {
   "cell_type": "markdown",
   "metadata": {},
   "source": [
    "## Extract skills\n"
   ]
  },
  {
   "cell_type": "code",
   "execution_count": 15,
   "metadata": {
    "tags": []
   },
   "outputs": [],
   "source": [
    "def extract_skills(input_text):\n",
    "    SKILLS_DB = [\n",
    "    'machine learning',\n",
    "    'data science',\n",
    "    'python',\n",
    "    'word',\n",
    "    'excel',\n",
    "    'English']\n",
    "    \n",
    "    stop_words = set(nltk.corpus.stopwords.words('english'))\n",
    "    word_tokens = nltk.tokenize.word_tokenize(input_text)\n",
    "\n",
    "    # remove the stop words\n",
    "    filtered_tokens = [w for w in word_tokens if w not in stop_words]\n",
    "\n",
    "    # remove the punctuation\n",
    "    filtered_tokens = [w for w in word_tokens if w.isalpha()]\n",
    "\n",
    "    # generate bigrams and trigrams (such as artificial intelligence)\n",
    "    bigrams_trigrams = list(map(' '.join, nltk.everygrams(filtered_tokens, 2, 3)))\n",
    "\n",
    "    # we create a set to keep the results in.\n",
    "    found_skills = set()\n",
    "\n",
    "    # we search for each token in our skills database\n",
    "    for token in filtered_tokens:\n",
    "        if token.lower() in SKILLS_DB:\n",
    "            found_skills.add(token)\n",
    "    \n",
    "    # we search for each bigram and trigram in our skills database\n",
    "    for ngram in bigrams_trigrams:\n",
    "        if ngram.lower() in SKILLS_DB:\n",
    "            found_skills.add(ngram)\n",
    "\n",
    "    return found_skills\n"
   ]
  },
  {
   "cell_type": "markdown",
   "metadata": {},
   "source": [
    "## Extract skills v2.0"
   ]
  },
  {
   "cell_type": "code",
   "execution_count": 16,
   "metadata": {},
   "outputs": [],
   "source": [
    "## Limited use, requires creating account after limit\n",
    "def extract_skill_list(text):\n",
    "    #change the id and secret when exceed limit\n",
    "    CLIENT_ID = \"zmjv32jntsjkv9tg\"\n",
    "    CLIENT_SECRET= \"rh9xc2Za\"\n",
    "#     Scope = \"emsi_open\"\n",
    "\n",
    "    url = \"https://auth.emsicloud.com/connect/token\"\n",
    "    payload = f\"client_id={CLIENT_ID}&client_secret={CLIENT_SECRET}&grant_type=client_credentials&scope=emsi_open\"\n",
    "    headers = {'Content-Type': 'application/x-www-form-urlencoded'}\n",
    "    res = requests.request(\"POST\", url, data=payload, headers=headers).json()\n",
    "    token = res[\"access_token\"]\n",
    "\n",
    "    url = \"https://emsiservices.com/skills/versions/latest/extract\"\n",
    "\n",
    "    data = {\"text\": text,\n",
    "            \"confidenceThreshold\": 0.6}\n",
    "    headers = {\n",
    "        'Authorization': f\"Bearer {token}\",\n",
    "        'Content-Type': \"application/json\"\n",
    "        }\n",
    "\n",
    "    response = requests.request(\"POST\", url, data=json.dumps(data), headers=headers)\n",
    "\n",
    "    skill_json = response.json()\n",
    "    try:\n",
    "        skill_set = []\n",
    "        for i in range(len(skill_json[\"data\"])):\n",
    "            skill_set.append(skill_json[\"data\"][i][\"skill\"][\"name\"])\n",
    "\n",
    "        return skill_set\n",
    "    except:\n",
    "        print(\"Please create a new account and get the id and secret\")\n",
    "        return skill_json"
   ]
  },
  {
   "cell_type": "markdown",
   "metadata": {},
   "source": [
    "## Display result"
   ]
  },
  {
   "cell_type": "code",
   "execution_count": 17,
   "metadata": {},
   "outputs": [],
   "source": [
    "def show_result(text,path= None):\n",
    "#     text = extract_text_from_docx('Input/Resume/doc/resume.docx')\n",
    "    print(\"\\n\")\n",
    "    if path != None:\n",
    "        name = get_name(path)\n",
    "        print(f\"Name : {name}\\n\")\n",
    "        \n",
    "    skills = extract_skill_list(text)\n",
    "    phone_number = extract_phone_number(text)    \n",
    "    email = extract_emails(text)    \n",
    "    \n",
    "    print(f\"Email : {email[0]} \\n\") \n",
    "    print(f\"Phone number : {phone_number}\\n\")\n",
    "    print(f\"skills : {skills}\")"
   ]
  },
  {
   "cell_type": "markdown",
   "metadata": {},
   "source": [
    "## Auto detect and extract and display"
   ]
  },
  {
   "cell_type": "code",
   "execution_count": 18,
   "metadata": {
    "tags": []
   },
   "outputs": [],
   "source": [
    "def auto_extract_text(path):\n",
    "    if os.path.exists(path) == False:\n",
    "        print(\"File do not exist\")\n",
    "        return\n",
    "    ext = get_ext(path)\n",
    "    text = \" \"\n",
    "    doc_ext_list = ['.doc', '.docx']\n",
    "    image_ext_list = ['.jpg','.jpeg','.png']\n",
    "    if ext in doc_ext_list:\n",
    "        print(\"File type : Document\")\n",
    "        text = extract_text_from_docx(path)\n",
    "    elif ext in image_ext_list:\n",
    "        print(\"File type : Image\")\n",
    "        text = extract_text_from_image(path)\n",
    "    elif ext == \".pdf\":\n",
    "        print(\"File type : PDF\")\n",
    "        print(\"**Note : Some data might me missing while extracting from using PDF, please review the output\")\n",
    "        text = extract_text_from_pdf(path)\n",
    "        \n",
    "    show_result(text,path)\n"
   ]
  },
  {
   "cell_type": "code",
   "execution_count": 115,
   "metadata": {},
   "outputs": [
    {
     "name": "stdout",
     "output_type": "stream",
     "text": [
      "File type : Document\n",
      "\n",
      "Name : resume\n",
      "\n",
      "Email : maria123@gmail.com \n",
      "\n",
      "Phone number : (555)-555-5555\n",
      "\n",
      "skills : ['Software Design', 'Relational Databases', 'Object-Oriented Programming (OOP)', 'MySQL', 'Data Exchange', 'Bootstrap (Front-End Framework)', 'C++ (Programming Language)', 'JavaScript (Programming Language)', 'Development Management', 'Database Management Systems', 'Application Programming Interface (API)', 'Pandas (Python Package)', 'Microsoft Visual Studio', 'Shell Script', 'Scikit-learn (Machine Learning Library)', 'Extensible Markup Language (XML)', 'PostgreSQL', 'Linux', 'Amazon Web Services', 'Stored Procedure', 'Algorithms', 'SQLAlchemy', 'PHP (Scripting Language)', 'HTML5', 'Python (Programming Language)', 'SQL (Programming Language)', 'Model View Controller', 'Seaborn', 'Ajax (Programming Language)', 'Web Servers', 'Django (Web Framework)', 'Eclipse (Software)', 'Extensible HyperText Markup Language (XHTML)', 'Unit Testing', 'SQLite', 'Angular (Web Framework)', 'MongoDB', 'Apache Subversion', 'Java (Programming Language)', 'TensorFlow', 'Web Services', 'Business Logic', 'MyEclipse', 'RESTful API', 'Scripting', 'PyTorch (Machine Learning Library)', 'Consulting', 'Software Installation', 'Regression Testing', 'HyperText Markup Language (HTML)', 'System Deployment', 'Cascading Style Sheets (CSS)', 'Microsoft SQL Servers', 'JQuery', 'Dojo Toolkit', 'Presentation Layer', 'Relational Database Management Systems', 'Object-Relational Mapping', 'JSON', 'Database Cursor', 'Matplotlib', 'Look And Feel', 'Version Control', 'Google Cloud', 'User Interface', 'NumPy', 'SciPy', 'Web Applications', 'Operations', 'Simple Object Access Protocol (SOAP)', 'Team Building', 'PyCharm']\n"
     ]
    }
   ],
   "source": [
    "auto_extract_text(\"Input/Resume/doc/resume.docx\")"
   ]
  },
  {
   "cell_type": "code",
   "execution_count": 102,
   "metadata": {},
   "outputs": [
    {
     "name": "stdout",
     "output_type": "stream",
     "text": [
      "File type : Image\n",
      "\n",
      "Name : resume2\n",
      "\n",
      "Email : youremail@gmail.com \n",
      "\n",
      "Phone number : 895.555.5555\n",
      "\n",
      "skills : ['MySQL', 'Application Programming Interface (API)', 'LAMP (Software Bundle)', 'Network Planning And Design', 'Linux Servers', 'Docker (Software)', 'Linux', 'PHP (Scripting Language)', 'Python (Programming Language)', 'RESTful API', 'Full Stack Software Engineering', 'Web Services', 'Kohana', 'Systems Architecture', 'C# (Programming Language)', 'SQL (Programming Language)', 'Laravel', 'Hyper-V', 'Cascading Style Sheets (CSS)', 'JQuery', 'Software Engineering', 'JavaScript (Programming Language)', 'Management', 'Back End (Software Engineering)', 'Web Applications', 'Microsoft Access', 'Leadership', 'Web Development']\n"
     ]
    }
   ],
   "source": [
    "auto_extract_text(\"Input/Resume/image/resume2.png\")"
   ]
  },
  {
   "cell_type": "code",
   "execution_count": 19,
   "metadata": {},
   "outputs": [
    {
     "name": "stdout",
     "output_type": "stream",
     "text": [
      "File type : Document\n",
      "\n",
      "\n",
      "Name : Software-Engineer-Resume\n",
      "\n",
      "Email : youremail@gmail.com \n",
      "\n",
      "Phone number : 895-555-5555\n",
      "\n",
      "skills : ['MySQL', 'Bash (Scripting Language)', 'Application Programming Interface (API)', 'Vue.js', 'LAMP (Software Bundle)', 'Network Planning And Design', 'Linux Servers', 'Docker (Software)', 'Linux', 'Cascading Style Sheets (CSS)', 'PHP (Scripting Language)', 'Python (Programming Language)', 'RESTful API', 'Full Stack Software Engineering', 'Windows Servers', 'React.js', 'Kohana', 'Systems Architecture', 'C# (Programming Language)', 'Elasticsearch', 'Node.js', 'SQL (Programming Language)', 'Consulting', 'Laravel', 'Hyper-V', 'HTML5', 'Amazon Web Services', 'JQuery', 'MariaDB', 'Software Engineering', 'JavaScript (Programming Language)', 'SAS (Software)', 'Management', 'Back End (Software Engineering)', 'Microsoft Access', 'Web Applications', 'R (Programming Language)', 'Leadership', 'Web Development']\n"
     ]
    }
   ],
   "source": [
    "auto_extract_text(\"Input/Resume/doc/Software-Engineer-Resume.docx\")"
   ]
  }
 ],
 "metadata": {
  "kernelspec": {
   "display_name": "Python 3",
   "language": "python",
   "name": "python3"
  },
  "language_info": {
   "codemirror_mode": {
    "name": "ipython",
    "version": 3
   },
   "file_extension": ".py",
   "mimetype": "text/x-python",
   "name": "python",
   "nbconvert_exporter": "python",
   "pygments_lexer": "ipython3",
   "version": "3.8.5"
  }
 },
 "nbformat": 4,
 "nbformat_minor": 4
}
