{
 "cells": [
  {
   "cell_type": "markdown",
   "metadata": {},
   "source": [
    "##### Reference https://promptapi.com/blog/article/build-your-own-resume-parser-using-python-and-nlp\n",
    "##### API for skills https://api.emsidata.com/"
   ]
  },
  {
   "cell_type": "markdown",
   "metadata": {},
   "source": [
    "## Importing libraries"
   ]
  },
  {
   "cell_type": "code",
   "execution_count": 166,
   "metadata": {
    "tags": []
   },
   "outputs": [],
   "source": [
    "# !pip install pdfminer.six\n",
    "# !pip install docx2txt\n",
    "# !pip install pdf2image"
   ]
  },
  {
   "cell_type": "code",
   "execution_count": 2,
   "metadata": {},
   "outputs": [],
   "source": [
    "import docx2txt\n",
    "import nltk"
   ]
  },
  {
   "cell_type": "code",
   "execution_count": 3,
   "metadata": {},
   "outputs": [],
   "source": [
    "import re\n",
    "import pandas as pd"
   ]
  },
  {
   "cell_type": "code",
   "execution_count": 4,
   "metadata": {},
   "outputs": [],
   "source": [
    "import pytesseract\n",
    "pytesseract.pytesseract.tesseract_cmd = \"D:/Program Files/Tesseract-OCR/tesseract\""
   ]
  },
  {
   "cell_type": "code",
   "execution_count": 5,
   "metadata": {},
   "outputs": [],
   "source": [
    "from pdfminer.high_level import extract_text\n",
    "# from pdf2image import convert_from_path"
   ]
  },
  {
   "cell_type": "code",
   "execution_count": 6,
   "metadata": {},
   "outputs": [],
   "source": [
    "import requests\n",
    "import json"
   ]
  },
  {
   "cell_type": "markdown",
   "metadata": {},
   "source": [
    "## downloading required nltk packages"
   ]
  },
  {
   "cell_type": "code",
   "execution_count": 7,
   "metadata": {
    "tags": []
   },
   "outputs": [],
   "source": [
    "# nltk.download('stopwords')\n",
    "# nltk.download('punkt')\n",
    "# nltk.download('averaged_perceptron_tagger')\n",
    "# nltk.download('maxent_ne_cahunker')\n",
    "# nltk.download('words')"
   ]
  },
  {
   "cell_type": "markdown",
   "metadata": {},
   "source": [
    "## Extract text from docx"
   ]
  },
  {
   "cell_type": "code",
   "execution_count": 8,
   "metadata": {},
   "outputs": [],
   "source": [
    "def extract_text_from_docx(docx_path):\n",
    "    txt = docx2txt.process(docx_path)\n",
    "    if txt:\n",
    "        return txt.replace('\\t', ' ')\n",
    "    return None"
   ]
  },
  {
   "cell_type": "markdown",
   "metadata": {},
   "source": [
    "## Extract text from image"
   ]
  },
  {
   "cell_type": "code",
   "execution_count": 9,
   "metadata": {},
   "outputs": [],
   "source": [
    "def extract_text_from_image(img_path):\n",
    "    txt = pytesseract.image_to_string(img_path)\n",
    "    if txt:\n",
    "        return txt.replace('\\t', ' ')\n",
    "    return None"
   ]
  },
  {
   "cell_type": "markdown",
   "metadata": {},
   "source": [
    "## Extract text from pdf"
   ]
  },
  {
   "cell_type": "code",
   "execution_count": 10,
   "metadata": {},
   "outputs": [],
   "source": [
    "def extract_text_from_pdf(pdf_path):\n",
    "    return extract_text(pdf_path)"
   ]
  },
  {
   "cell_type": "code",
   "execution_count": 11,
   "metadata": {},
   "outputs": [],
   "source": [
    "\n",
    "# def find_gender(name):\n",
    "#     url = \"https://api.genderize.io/?name=\"\n",
    "#     n = name\n",
    "#     r = requests.get(url+n).json()\n",
    "#     gender =  r[\"gender\"]\n",
    "#     if gender:\n",
    "#         return gender\n",
    "#     else:\n",
    "#         return \"Cannot identify gender\"\n",
    "    "
   ]
  },
  {
   "cell_type": "markdown",
   "metadata": {},
   "source": [
    "## Extract phone numbers"
   ]
  },
  {
   "cell_type": "code",
   "execution_count": 12,
   "metadata": {},
   "outputs": [],
   "source": [
    "def extract_phone_number(resume_text):\n",
    "    PHONE_REG = re.compile(r'[\\+\\(]?[1-9][0-9 .\\-\\(\\)]{8,}[0-9]')\n",
    "    phone = re.findall(PHONE_REG, resume_text)\n",
    "    if phone:\n",
    "        number = ''.join(phone[0])\n",
    "\n",
    "        if resume_text.find(number) >= 0 and len(number) < 16:\n",
    "            return number\n",
    "    return None\n"
   ]
  },
  {
   "cell_type": "markdown",
   "metadata": {},
   "source": [
    "## Extract emails"
   ]
  },
  {
   "cell_type": "code",
   "execution_count": 13,
   "metadata": {},
   "outputs": [],
   "source": [
    "def extract_emails(resume_text):\n",
    "    EMAIL_REG = re.compile(r'[a-z0-9\\.\\-+_]+@[a-z0-9\\.\\-+_]+\\.[a-z]+')\n",
    "    return re.findall(EMAIL_REG, resume_text)"
   ]
  },
  {
   "cell_type": "markdown",
   "metadata": {},
   "source": [
    "## Extract skills\n"
   ]
  },
  {
   "cell_type": "code",
   "execution_count": 27,
   "metadata": {},
   "outputs": [],
   "source": [
    "def extract_skills(input_text):\n",
    "    SKILLS_DB = [\n",
    "    'machine learning',\n",
    "    'data science',\n",
    "    'python',\n",
    "    'word',\n",
    "    'excel',\n",
    "    'English']\n",
    "    \n",
    "    stop_words = set(nltk.corpus.stopwords.words('english'))\n",
    "    word_tokens = nltk.tokenize.word_tokenize(input_text)\n",
    "\n",
    "    # remove the stop words\n",
    "    filtered_tokens = [w for w in word_tokens if w not in stop_words]\n",
    "\n",
    "    # remove the punctuation\n",
    "    filtered_tokens = [w for w in word_tokens if w.isalpha()]\n",
    "\n",
    "    # generate bigrams and trigrams (such as artificial intelligence)\n",
    "    bigrams_trigrams = list(map(' '.join, nltk.everygrams(filtered_tokens, 2, 3)))\n",
    "\n",
    "    # we create a set to keep the results in.\n",
    "    found_skills = set()\n",
    "\n",
    "    # we search for each token in our skills database\n",
    "    for token in filtered_tokens:\n",
    "        if token.lower() in SKILLS_DB:\n",
    "            found_skills.add(token)\n",
    "    \n",
    "    # we search for each bigram and trigram in our skills database\n",
    "    for ngram in bigrams_trigrams:\n",
    "        if ngram.lower() in SKILLS_DB:\n",
    "            found_skills.add(ngram)\n",
    "\n",
    "    return found_skills\n"
   ]
  },
  {
   "cell_type": "markdown",
   "metadata": {},
   "source": [
    "## Extract skills v2.0"
   ]
  },
  {
   "cell_type": "code",
   "execution_count": 14,
   "metadata": {},
   "outputs": [],
   "source": [
    "def extract_skill_list(text):\n",
    "    CLIENT_ID = \"f6hl2k37jym2ahm5\"\n",
    "    CLIENT_SECRET= \"L1VwGoxH\"\n",
    "    Scope = \"emsi_open\"\n",
    "\n",
    "    url = \"https://auth.emsicloud.com/connect/token\"\n",
    "    payload = f\"client_id={CLIENT_ID}&client_secret={CLIENT_SECRET}&grant_type=client_credentials&scope=emsi_open\"\n",
    "    headers = {'Content-Type': 'application/x-www-form-urlencoded'}\n",
    "    res = requests.request(\"POST\", url, data=payload, headers=headers).json()\n",
    "    token = res[\"access_token\"]\n",
    "\n",
    "    url = \"https://emsiservices.com/skills/versions/latest/extract\"\n",
    "\n",
    "    data = {\"text\": text,\n",
    "            \"confidenceThreshold\": 0.6}\n",
    "    headers = {\n",
    "        'Authorization': f\"Bearer {token}\",\n",
    "        'Content-Type': \"application/json\"\n",
    "        }\n",
    "\n",
    "    response = requests.request(\"POST\", url, data=json.dumps(data), headers=headers)\n",
    "\n",
    "    skill_json = response.json()\n",
    "\n",
    "    skill_set = []\n",
    "    for i in range(len(skill_json[\"data\"])):\n",
    "        skill_set.append(skill_json[\"data\"][i][\"skill\"][\"name\"])\n",
    "\n",
    "    return skill_set"
   ]
  },
  {
   "cell_type": "markdown",
   "metadata": {},
   "source": [
    "## Display result"
   ]
  },
  {
   "cell_type": "code",
   "execution_count": 16,
   "metadata": {},
   "outputs": [],
   "source": [
    "def show_result(text):\n",
    "#     text = extract_text_from_docx('Input/Resume/doc/resume.docx')\n",
    "    skills = extract_skill_list(text)\n",
    "    phone_number = extract_phone_number(text)\n",
    "    email = extract_emails(text)\n",
    "    print(f\"\"\"\n",
    "    Email : {email[0]}  \n",
    "    Phone number : {phone_number}\n",
    "    skills : {skills}\n",
    "    \"\"\")"
   ]
  },
  {
   "cell_type": "code",
   "execution_count": 17,
   "metadata": {},
   "outputs": [],
   "source": [
    "text = extract_text_from_docx('Input/Resume/doc/resume.docx')"
   ]
  },
  {
   "cell_type": "code",
   "execution_count": 18,
   "metadata": {},
   "outputs": [],
   "source": [
    "text_img = extract_text_from_image(\"Input/Resume/image/resume.jpg\")"
   ]
  },
  {
   "cell_type": "code",
   "execution_count": 19,
   "metadata": {},
   "outputs": [],
   "source": [
    "text_pdf = extract_text_from_pdf(\"Input/Resume/pdf/resume.pdf\")"
   ]
  },
  {
   "cell_type": "code",
   "execution_count": 20,
   "metadata": {},
   "outputs": [],
   "source": [
    "text_doc = extract_text_from_docx(\"Input/Resume/doc/Software-Engineer-Resume.docx\")"
   ]
  },
  {
   "cell_type": "code",
   "execution_count": 21,
   "metadata": {
    "tags": []
   },
   "outputs": [
    {
     "name": "stdout",
     "output_type": "stream",
     "text": [
      "MARIA LISA\n",
      "\n",
      "Email: maria123@gmail.com\n",
      "\n",
      "Phone: (555)-555-5555\n",
      "\n",
      "\n",
      "\n",
      "CAREER SUMMARY\n",
      "\n",
      "Around 3 Years of experience in Analysis, Design, Development, Management and Validation of various stand-alone and client-server applications.\n",
      "\n",
      "2+ years of experience in implementing Object-Oriented Python, Hash Tables (Dictionaries) and Multi threading.\n",
      "\n",
      "Experience in installing software using pip command for python libraries and extensive usage of the PEP8 coding convention.\n",
      "\n",
      "Good understanding on Django ORM and SQLAlchemy.\n",
      "\n",
      "Experienced in interfacing with third party API’s using REST and SOAP\n",
      "\n",
      "Worked with varieties of Relational Databases (RDBMS) like SQLite, MySQL and PostgreSQL.\n",
      "\n",
      "Experienced in writing SubQueries, Triggers, Cursors, Stored Procedures and Functions.\n",
      "\n",
      "Proficient knowledge of Web services like Google Cloud and Amazon AWS Services.\n",
      "\n",
      "Good Knowledge on Linux and Shell Scripting.\n",
      "\n",
      "Experienced in developing web-based applications using Python, PHP, XML, JSON and MVC3\n",
      "\n",
      "Well versed in design and development of presentation layer for web applications using technologies like HTML,CSS, JavaScript, JQuery, AJAX and Bootstrap.\n",
      "\n",
      "EDUCATION\n",
      "\n",
      "Course (Stream)/ Examination\n",
      "\n",
      "Institution/University/School\n",
      "\n",
      "Year of Passing\n",
      "\n",
      "Performance\n",
      "\n",
      "B.E\n",
      "\n",
      "Tagore College of Engineering and Technology – Chennai\n",
      "\n",
      "2015\n",
      "\n",
      "90%\n",
      "\n",
      "HSC\n",
      "\n",
      "Scread Higher Secondary School\n",
      "\n",
      "2009\n",
      "\n",
      "84%\n",
      "\n",
      "SSLC\n",
      "\n",
      "ST.Marry Higher Secondary School\n",
      "\n",
      "2007\n",
      "\n",
      "80%\n",
      "\n",
      "SKILLS\n",
      "\n",
      "AJAX (1 year)\n",
      "\n",
      "CSS (1 year)\n",
      "\n",
      "HTML (1 year)\n",
      "\n",
      "JAVASCRIPT (1 year)\n",
      "\n",
      "MYSQL (1 year)\n",
      "\n",
      "WORK EXPERIENCE\n",
      "\n",
      "1.) Python Developer\n",
      "\n",
      "Tata Consultancy Services – October 2015 to December 2016\n",
      "\n",
      "Responsibilities: \n",
      "\n",
      "Involved in building database model, APIs and views utilizing Python, in order to build an interactive web based solution.\n",
      "\n",
      "Used data types like dictionaries, tuples and object -concepts based inheritance features for making complex algorithms of networks.\n",
      "\n",
      "Designed and developed the UI of the website using HTML, XHTML, AJAX, CSS and JavaScript.\n",
      "\n",
      "Expertise in client scripting languages like JavaScript, JQuery, JSON, DOJO, bootstrap, Angular.js.\n",
      "\n",
      "Designed and managed API system deployment using fast http server and Amazon AWS architecture\n",
      "\n",
      "Worked on Python Open stack API’s.\n",
      "\n",
      "Carried out various mathematical operations for calculation purpose using python libraries.\n",
      "\n",
      "Managed large datasets using Panda data frames and MySQL.\n",
      "\n",
      "Worked with JSON based REST Web services.\n",
      "\n",
      "Performed testing using Django’s Test Module.\n",
      "\n",
      "Creating unit test/regression test framework for working/new code.\n",
      "\n",
      "Using Subversion version control tool to coordinate team-development.\n",
      "\n",
      "Environment: Python, XML, Java, MySQL, Apache, CSS, HTML, JavaScript, Shell Scripts, Linux and Windows.\n",
      "\n",
      "2.) Python Developer\n",
      "\n",
      "Techwave Consulting Inc  – January 2015 to October 2015\n",
      "\n",
      "Responsibilities:\n",
      "\n",
      "Developed Views and Templates with Django view, controller and template language to create a user-friendly website interface.\n",
      "\n",
      "Configured the Django admin site, dashboard and created a custom Django dashboard for end users with custom look and feel.\n",
      "\n",
      "Used Python for XML, JSON processing, data exchange and business logic implementation.\n",
      "\n",
      "Created UI using JavaScript and HTML5. Designed and developed data management system using MongoDB.\n",
      "\n",
      "Used Python scripts to update the content in database and manipulate files.\n",
      "\n",
      "Proficient in Software Design and Development with a solid background in developing.\n",
      "\n",
      "Environment: Python, XML, MySQL, Apache, CSS, HTML, JavaScript, Shell Scripts, Linux and Windows.\n",
      "\n",
      "ADDITIONAL INFORMATION\n",
      "\n",
      "Languages Python, PHP, Java, C++, Shell scripting\n",
      "\n",
      "Python Framework Django, Pandas, Numpy, Scipy, Matplotlib, Seaborn, TensorFlow, Scikit-Learn, Pytorch.\n",
      "\n",
      "Databases MS SQL, MySQL, Oracle, PostgreSQL\n",
      "\n",
      "Web Technologies XML, CSS, HTML 5, JavaScript, JQuery, MVC 3, Bootstrap, AJAX, angular 2, PHP\n",
      "\n",
      "IDE Visual studio, PyCharm, Eclipse, MyEclipse\n"
     ]
    }
   ],
   "source": [
    "print(text)"
   ]
  },
  {
   "cell_type": "code",
   "execution_count": 22,
   "metadata": {},
   "outputs": [
    {
     "name": "stdout",
     "output_type": "stream",
     "text": [
      "\n",
      "    Email : maria123@gmail.com  \n",
      "    Phone number : (555)-555-5555\n",
      "    skills : ['Software Design', 'Relational Databases', 'Object-Oriented Programming (OOP)', 'MySQL', 'Data Exchange', 'Bootstrap (Front-End Framework)', 'C++ (Programming Language)', 'JavaScript (Programming Language)', 'Development Management', 'Database Management Systems', 'Application Programming Interface (API)', 'Pandas (Python Package)', 'Microsoft Visual Studio', 'Shell Script', 'Scikit-learn (Machine Learning Library)', 'Extensible Markup Language (XML)', 'PostgreSQL', 'Linux', 'Amazon Web Services', 'Stored Procedure', 'Algorithms', 'SQLAlchemy', 'PHP (Scripting Language)', 'HTML5', 'Python (Programming Language)', 'SQL (Programming Language)', 'Model View Controller', 'Seaborn', 'Ajax (Programming Language)', 'Web Servers', 'Django (Web Framework)', 'Eclipse (Software)', 'Extensible HyperText Markup Language (XHTML)', 'Unit Testing', 'SQLite', 'Angular (Web Framework)', 'MongoDB', 'Apache Subversion', 'Java (Programming Language)', 'TensorFlow', 'Web Services', 'Business Logic', 'MyEclipse', 'RESTful API', 'Scripting', 'PyTorch (Machine Learning Library)', 'Consulting', 'Software Installation', 'Regression Testing', 'HyperText Markup Language (HTML)', 'System Deployment', 'Cascading Style Sheets (CSS)', 'Microsoft SQL Servers', 'JQuery', 'Dojo Toolkit', 'Presentation Layer', 'Relational Database Management Systems', 'Object-Relational Mapping', 'JSON', 'Database Cursor', 'Matplotlib', 'Look And Feel', 'Version Control', 'Google Cloud', 'User Interface', 'NumPy', 'SciPy', 'Web Applications', 'Operations', 'Simple Object Access Protocol (SOAP)', 'Team Building', 'PyCharm']\n",
      "    \n"
     ]
    }
   ],
   "source": [
    "show_result(text)"
   ]
  },
  {
   "cell_type": "code",
   "execution_count": 23,
   "metadata": {},
   "outputs": [
    {
     "name": "stdout",
     "output_type": "stream",
     "text": [
      "\n",
      "    Email : reynold.stamm80@gmail.com  \n",
      "    Phone number : (400) 223-1058\n",
      "    skills : ['Asana', 'Power BI', 'Atlassian Bamboo', 'NoSQL', 'Operating Cost', 'Process Architecture', 'Microsoft SQL Servers', 'C++ (Programming Language)', 'Nagios', 'Puppet (Configuration Management Tool)', 'Microsoft Azure', 'ECMAScript 2015', 'Software Design Patterns', 'Github', 'Flask (Web Framework)', 'ECMAScript 2017', 'Storages', 'Git (Version Control System)', 'Capistrano (Software)', 'Scrum (Software Development)', 'GraphDB', 'SQLAlchemy', 'Python (Programming Language)', 'Full Stack Software Engineering', 'Django (Web Framework)', 'Codeship', 'Solid Principles', 'Application Programming Interface (API)', 'PL/SQL', 'Bitbucket', 'Code Complexity', 'Apache Subversion', 'Machine Learning', 'JIRA', 'Ansible', 'Atlassian Crucible', 'JRuby', 'IBM Cloud Computing', 'Load Testing', 'Natural Language Processing', 'Multicast Address Allocation Server', 'Willingness To Learn', 'User Experience', 'DevOps', 'SQL Server Reporting Services', 'Extract Transform Load (ETL)', 'Teamcity', 'Object-Relational Mapping', 'MariaDB', 'JavaScript (Programming Language)', 'Matplotlib', 'Gitlab', 'Er Diagrams', 'TensorFlow', 'Pandas (Python Package)', 'Agile Methodology', 'Systems Development Life Cycle', 'MOLAP', 'Vagrant', 'Consolidation', 'Basecamp', 'Drupal', 'Pylon Synchronization Software', 'Infrastructure']\n",
      "    \n"
     ]
    }
   ],
   "source": [
    "show_result(text_img)"
   ]
  },
  {
   "cell_type": "code",
   "execution_count": 24,
   "metadata": {},
   "outputs": [
    {
     "name": "stdout",
     "output_type": "stream",
     "text": [
      "\n",
      "    Email : info@qwikresume.com  \n",
      "    Phone number : (123) 456 78 99\n",
      "    skills : ['MySQL', 'Amazon Elastic Compute Cloud', 'Registered Investment Advisor', 'Application Programming Interface (API)', 'Autoscaling', 'Virtual Local Area Network (VLAN)', 'Github', 'Requirements Analysis', 'Git (Version Control System)', 'Hypervisor', 'OpenStack', 'Bugzilla', 'Scrum (Software Development)', 'Kernel-Based Virtual Machine', 'Heroku', 'Python (Programming Language)', 'Django (Web Framework)', 'Continuous Integration', 'Amazon Simple Notification Service (SNS)', 'Architectural Design', 'JIRA', 'Lightweight Directory Access Protocols', 'Model View Controller', 'Gerrit', 'Jenkins', 'Version Control', 'Firewall', 'Cascading Style Sheets (CSS)', 'Software Engineering', 'JavaScript (Programming Language)', 'Bash (Scripting Language)', 'AWS Lambda', 'Swift (Programming Language)', 'Management', 'Concurrent Versions System (Software)', 'Automation', 'Troubleshooting (Problem Solving)', 'Urllib', 'Dashboard']\n",
      "    \n"
     ]
    }
   ],
   "source": [
    "show_result(text_pdf)"
   ]
  },
  {
   "cell_type": "code",
   "execution_count": 25,
   "metadata": {},
   "outputs": [
    {
     "name": "stdout",
     "output_type": "stream",
     "text": [
      "\n",
      "    Email : youremail@gmail.com  \n",
      "    Phone number : 895-555-5555\n",
      "    skills : ['MySQL', 'Bash (Scripting Language)', 'Application Programming Interface (API)', 'Vue.js', 'LAMP (Software Bundle)', 'Network Planning And Design', 'Linux Servers', 'Docker (Software)', 'Linux', 'Cascading Style Sheets (CSS)', 'PHP (Scripting Language)', 'Python (Programming Language)', 'RESTful API', 'Full Stack Software Engineering', 'Windows Servers', 'React.js', 'Kohana', 'Systems Architecture', 'C# (Programming Language)', 'Elasticsearch', 'Node.js', 'SQL (Programming Language)', 'Consulting', 'Laravel', 'Hyper-V', 'HTML5', 'Amazon Web Services', 'JQuery', 'MariaDB', 'Software Engineering', 'JavaScript (Programming Language)', 'SAS (Software)', 'Management', 'Back End (Software Engineering)', 'Microsoft Access', 'Web Applications', 'R (Programming Language)', 'Leadership', 'Web Development']\n",
      "    \n"
     ]
    }
   ],
   "source": [
    "show_result(text_doc)"
   ]
  }
 ],
 "metadata": {
  "kernelspec": {
   "display_name": "Python 3",
   "language": "python",
   "name": "python3"
  },
  "language_info": {
   "codemirror_mode": {
    "name": "ipython",
    "version": 3
   },
   "file_extension": ".py",
   "mimetype": "text/x-python",
   "name": "python",
   "nbconvert_exporter": "python",
   "pygments_lexer": "ipython3",
   "version": "3.8.5"
  }
 },
 "nbformat": 4,
 "nbformat_minor": 4
}
